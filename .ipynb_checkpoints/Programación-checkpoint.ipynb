{
 "cells": [
  {
   "cell_type": "markdown",
   "metadata": {
    "id": "3nYORGYF_6Dh"
   },
   "source": [
    "## Punto 1\n",
    "\n",
    "\n",
    "Elabore un programa que pida números de cuatro cifras e indique si los números son capicúas o no. El programa deberá ir pidiendo números hasta que el usuario introduce ‘-1’ por teclado. El número –1 indicará la finalización de la ejecución del programa\n",
    "\n",
    "**Nota 1:** Un número capicúa es simétrico p.e. 1221 ó 25752  \n",
    "**Nota 2:** Cuando el número no es de cuatro cifras se deberá mostrar un mensaje de error por pantalla y se pedirá otro número menor que 10000. En caso de que el número sea menor de cuatro cifras se completará con ceros a la izquierda.  \n",
    "**Nota 3:** El único número negativo que se aceptará es ‘-1’ que indicará la finalización del programa. Cualquier otro número negativo, se mostrará un mensaje de error.  \n",
    "**Nota 4:** Debe indicar cuando se ingresa un caracter o valor no valido."
   ]
  },
  {
   "cell_type": "code",
   "execution_count": 40,
   "metadata": {},
   "outputs": [],
   "source": [
    "\n"
   ]
  },
  {
   "cell_type": "code",
   "execution_count": null,
   "metadata": {},
   "outputs": [],
   "source": [
    "x = 0 \n",
    "\n",
    "while (int(x) != -1):\n",
    "    x = (input(\"Digite un número de cuatro cifras \"))\n",
    "    array = []\n",
    "    \n",
    "    while (int(x) < -1):\n",
    "        print(\"El número digitado es menor a -1\")\n",
    "        break\n",
    "        \n",
    "    while (int(x) > 10000):\n",
    "        print(\"El número digitado es mayor a 10000\")\n",
    "        break\n",
    "        \n",
    "    if (len(x) == 4):\n",
    "        for i in [x][0]:\n",
    "            array.append(i)\n",
    "        if (array[0] == array[3] and array[1] == array[2]):\n",
    "            print(\"\\nEl número {} es capicúa\\n\".format(x))\n",
    "        else:\n",
    "            print(\"\\nEl número {} no es capicúa\\n\".format(x))\n",
    "            continue\n",
    "        \n",
    "    else:\n",
    "        print(\"\\nEl número no es de 4 dígitos\\n\")\n",
    "        \n",
    "        \n"
   ]
  },
  {
   "cell_type": "markdown",
   "metadata": {
    "id": "lNuKPyzpeGeI"
   },
   "source": [
    "# Punto 2\n",
    "Escriba un código que le permita hallar los números primos menores a 1000.\n",
    "\n",
    "Recuerde que:\n",
    "  1. Un número primo es aquel que tiene excatamente 2 divisores.\n",
    "  2. Los candidatos para dividir al número $n$ se hallan entre $1$ y $\\sqrt{n}$."
   ]
  },
  {
   "cell_type": "code",
   "execution_count": 145,
   "metadata": {},
   "outputs": [],
   "source": [
    "z = list(range(0+1, 101))"
   ]
  },
  {
   "cell_type": "code",
   "execution_count": 1,
   "metadata": {},
   "outputs": [
    {
     "ename": "NameError",
     "evalue": "name 'u' is not defined",
     "output_type": "error",
     "traceback": [
      "\u001b[0;31m---------------------------------------------------------------------------\u001b[0m",
      "\u001b[0;31mNameError\u001b[0m                                 Traceback (most recent call last)",
      "\u001b[0;32m/tmp/ipykernel_10433/1558015584.py\u001b[0m in \u001b[0;36m<module>\u001b[0;34m\u001b[0m\n\u001b[0;32m----> 1\u001b[0;31m \u001b[0mu\u001b[0m\u001b[0;34m\u001b[0m\u001b[0;34m\u001b[0m\u001b[0m\n\u001b[0m\u001b[1;32m      2\u001b[0m \u001b[0;32mfor\u001b[0m \u001b[0mi\u001b[0m \u001b[0;32min\u001b[0m \u001b[0mz\u001b[0m\u001b[0;34m:\u001b[0m\u001b[0;34m\u001b[0m\u001b[0;34m\u001b[0m\u001b[0m\n\u001b[1;32m      3\u001b[0m     \u001b[0mprint\u001b[0m\u001b[0;34m(\u001b[0m\u001b[0mk\u001b[0m\u001b[0;34m)\u001b[0m\u001b[0;34m\u001b[0m\u001b[0;34m\u001b[0m\u001b[0m\n\u001b[1;32m      4\u001b[0m     \u001b[0mnuma\u001b[0m \u001b[0;34m=\u001b[0m \u001b[0;34m[\u001b[0m\u001b[0;34m]\u001b[0m\u001b[0;34m\u001b[0m\u001b[0;34m\u001b[0m\u001b[0m\n\u001b[1;32m      5\u001b[0m     \u001b[0;32mif\u001b[0m \u001b[0;34m(\u001b[0m\u001b[0mlen\u001b[0m\u001b[0;34m(\u001b[0m\u001b[0mstr\u001b[0m\u001b[0;34m(\u001b[0m\u001b[0mi\u001b[0m\u001b[0;34m/\u001b[0m\u001b[0mi\u001b[0m\u001b[0;34m)\u001b[0m\u001b[0;34m)\u001b[0m \u001b[0;34m==\u001b[0m \u001b[0;36m3\u001b[0m \u001b[0;34m)\u001b[0m\u001b[0;34m:\u001b[0m\u001b[0;34m\u001b[0m\u001b[0;34m\u001b[0m\u001b[0m\n",
      "\u001b[0;31mNameError\u001b[0m: name 'u' is not defined"
     ]
    }
   ],
   "source": [
    "for i in z:\n",
    "    print(k)\n",
    "    numa = []\n",
    "    if (len(str(i/i)) == 3 ):\n",
    "        print(\"ok\")"
   ]
  },
  {
   "cell_type": "code",
   "execution_count": 3,
   "metadata": {},
   "outputs": [
    {
     "name": "stdout",
     "output_type": "stream",
     "text": [
      "¿Qué número quieres saber si es primo? 123\n",
      "range(2, 1001)\n",
      "divisor: 3\n",
      "divisor: 41\n",
      "divisor: 123\n",
      "El número no es primo\n"
     ]
    }
   ],
   "source": [
    "numero= int(input(\"¿Qué número quieres saber si es primo? \"))\n",
    "valor= range(2,1001)\n",
    "print(valor)\n",
    "contador = 0\n",
    "for n in valor:\n",
    "  if numero % n == 0:\n",
    "    contador +=1\n",
    "    print(\"divisor:\", n)\n",
    " \n",
    "if contador > 0 :\n",
    "  print(\"El número no es primo\" )\n",
    "else:\n",
    "  print(\"El nÚmero es primo\")"
   ]
  },
  {
   "cell_type": "code",
   "execution_count": null,
   "metadata": {},
   "outputs": [],
   "source": [
    "67"
   ]
  }
 ],
 "metadata": {
  "colab": {
   "name": "Programación.ipynb",
   "provenance": []
  },
  "kernelspec": {
   "display_name": "Python 3 (ipykernel)",
   "language": "python",
   "name": "python3"
  },
  "language_info": {
   "codemirror_mode": {
    "name": "ipython",
    "version": 3
   },
   "file_extension": ".py",
   "mimetype": "text/x-python",
   "name": "python",
   "nbconvert_exporter": "python",
   "pygments_lexer": "ipython3",
   "version": "3.9.7"
  }
 },
 "nbformat": 4,
 "nbformat_minor": 1
}
