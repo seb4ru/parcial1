{
 "cells": [
  {
   "cell_type": "markdown",
   "metadata": {
    "id": "3nYORGYF_6Dh"
   },
   "source": [
    "## Punto 1\n",
    "\n",
    "\n",
    "Elabore un programa que pida números de cuatro cifras e indique si los números son capicúas o no. El programa deberá ir pidiendo números hasta que el usuario introduce ‘-1’ por teclado. El número –1 indicará la finalización de la ejecución del programa\n",
    "\n",
    "**Nota 1:** Un número capicúa es simétrico p.e. 1221 ó 25752  \n",
    "**Nota 2:** Cuando el número no es de cuatro cifras se deberá mostrar un mensaje de error por pantalla y se pedirá otro número menor que 10000. En caso de que el número sea menor de cuatro cifras se completará con ceros a la izquierda.  \n",
    "**Nota 3:** El único número negativo que se aceptará es ‘-1’ que indicará la finalización del programa. Cualquier otro número negativo, se mostrará un mensaje de error.  \n",
    "**Nota 4:** Debe indicar cuando se ingresa un caracter o valor no valido."
   ]
  },
  {
   "cell_type": "code",
   "execution_count": null,
   "metadata": {},
   "outputs": [],
   "source": [
    "\n"
   ]
  },
  {
   "cell_type": "code",
   "execution_count": 63,
   "metadata": {},
   "outputs": [
    {
     "name": "stdout",
     "output_type": "stream",
     "text": [
      "Digite un número de cuatro cifras -1\n",
      "\n",
      "El número no es de 4 dígitos\n",
      "\n"
     ]
    }
   ],
   "source": [
    "x = 0 \n",
    "\n",
    "while (int(x) != -1):\n",
    "    x = (input(\"Digite un número de cuatro cifras \"))\n",
    "    array = []\n",
    "    \n",
    "    while (int(x) < -1):\n",
    "        print(\"El número digitado es menor a -1\")\n",
    "        break\n",
    "        \n",
    "    while (int(x) > 10000):\n",
    "        print(\"El número digitado es mayor a 10000\")\n",
    "        break\n",
    "        \n",
    "    if (len(x) == 4):\n",
    "        for i in [x][0]:\n",
    "            array.append(i)\n",
    "        if (array[0] == array[3] and array[1] == array[2]):\n",
    "            print(\"\\nEl número {} es capicúa\\n\".format(x))\n",
    "        else:\n",
    "            print(\"\\nEl número {} no es capicúa\\n\".format(x))\n",
    "            continue\n",
    "        \n",
    "    else:\n",
    "        print(\"\\nEl número no es de 4 dígitos\\n\")\n",
    "        \n",
    "        \n"
   ]
  },
  {
   "cell_type": "markdown",
   "metadata": {
    "id": "lNuKPyzpeGeI"
   },
   "source": [
    "# Punto 2\n",
    "Escriba un código que le permita hallar los números primos menores a 1000.\n",
    "\n",
    "Recuerde que:\n",
    "  1. Un número primo es aquel que tiene excatamente 2 divisores.\n",
    "  2. Los candidatos para dividir al número $n$ se hallan entre $1$ y $\\sqrt{n}$."
   ]
  },
  {
   "cell_type": "code",
   "execution_count": 44,
   "metadata": {},
   "outputs": [
    {
     "data": {
      "text/plain": [
       "range(1, 101)"
      ]
     },
     "execution_count": 44,
     "metadata": {},
     "output_type": "execute_result"
    }
   ],
   "source": [
    "z = range(0+1, 101)\n",
    "z"
   ]
  },
  {
   "cell_type": "code",
   "execution_count": 54,
   "metadata": {},
   "outputs": [
    {
     "name": "stdout",
     "output_type": "stream",
     "text": [
      "1\n",
      "2\n"
     ]
    },
    {
     "ename": "IndexError",
     "evalue": "range object index out of range",
     "output_type": "error",
     "traceback": [
      "\u001b[0;31m---------------------------------------------------------------------------\u001b[0m",
      "\u001b[0;31mIndexError\u001b[0m                                Traceback (most recent call last)",
      "\u001b[0;32m/tmp/ipykernel_5654/2258585006.py\u001b[0m in \u001b[0;36m<module>\u001b[0;34m\u001b[0m\n\u001b[1;32m      2\u001b[0m \u001b[0;34m\u001b[0m\u001b[0m\n\u001b[1;32m      3\u001b[0m \u001b[0;32mfor\u001b[0m \u001b[0mi\u001b[0m \u001b[0;32min\u001b[0m \u001b[0mz\u001b[0m\u001b[0;34m:\u001b[0m\u001b[0;34m\u001b[0m\u001b[0;34m\u001b[0m\u001b[0m\n\u001b[0;32m----> 4\u001b[0;31m     \u001b[0;32mif\u001b[0m \u001b[0;34m(\u001b[0m\u001b[0mi\u001b[0m \u001b[0;34m%\u001b[0m \u001b[0mz\u001b[0m\u001b[0;34m[\u001b[0m\u001b[0mñ\u001b[0m\u001b[0;34m]\u001b[0m \u001b[0;34m==\u001b[0m \u001b[0;36m0\u001b[0m\u001b[0;34m)\u001b[0m\u001b[0;34m:\u001b[0m\u001b[0;34m\u001b[0m\u001b[0;34m\u001b[0m\u001b[0m\n\u001b[0m\u001b[1;32m      5\u001b[0m         \u001b[0;32mwhile\u001b[0m \u001b[0;34m(\u001b[0m\u001b[0mñ\u001b[0m \u001b[0;34m!=\u001b[0m \u001b[0;36m1000\u001b[0m\u001b[0;34m)\u001b[0m\u001b[0;34m:\u001b[0m\u001b[0;34m\u001b[0m\u001b[0;34m\u001b[0m\u001b[0m\n\u001b[1;32m      6\u001b[0m             \u001b[0mñ\u001b[0m \u001b[0;34m=\u001b[0m \u001b[0mñ\u001b[0m \u001b[0;34m+\u001b[0m\u001b[0;36m1\u001b[0m\u001b[0;34m\u001b[0m\u001b[0;34m\u001b[0m\u001b[0m\n",
      "\u001b[0;31mIndexError\u001b[0m: range object index out of range"
     ]
    }
   ],
   "source": [
    "ñ = 1\n",
    "\n",
    "for i in z:\n",
    "    if (i % z[ñ] == 0):\n",
    "        while (ñ != 1000):\n",
    "            ñ = ñ +1\n",
    "    print(i)      \n"
   ]
  },
  {
   "cell_type": "code",
   "execution_count": 34,
   "metadata": {},
   "outputs": [
    {
     "data": {
      "text/plain": [
       "2"
      ]
     },
     "execution_count": 34,
     "metadata": {},
     "output_type": "execute_result"
    }
   ],
   "source": []
  },
  {
   "cell_type": "code",
   "execution_count": null,
   "metadata": {},
   "outputs": [],
   "source": []
  }
 ],
 "metadata": {
  "colab": {
   "name": "Programación.ipynb",
   "provenance": []
  },
  "kernelspec": {
   "display_name": "Python 3 (ipykernel)",
   "language": "python",
   "name": "python3"
  },
  "language_info": {
   "codemirror_mode": {
    "name": "ipython",
    "version": 3
   },
   "file_extension": ".py",
   "mimetype": "text/x-python",
   "name": "python",
   "nbconvert_exporter": "python",
   "pygments_lexer": "ipython3",
   "version": "3.9.7"
  }
 },
 "nbformat": 4,
 "nbformat_minor": 1
}
